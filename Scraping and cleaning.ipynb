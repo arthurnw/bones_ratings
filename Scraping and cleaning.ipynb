{
 "cells": [
  {
   "cell_type": "markdown",
   "metadata": {},
   "source": [
    "# Why?\n",
    "I had a debate with a friend about *Bones*, a (very) long-running TV show. She claimed that it was as popular as ever, which was why it was still on air; I figured that while still popular, there was no way that it still drew the same number of viewers that it used to.\n",
    "\n",
    "As with most arguments these days, we went to Wikipedia (https://en.wikipedia.org/wiki/List_of_Bones_episodes) to find our answers. Fortunately, they had viewership numbers, so we were able to settle the argument (I was right). Unfortunately, it's just a big table, so I couldn't show her just how far the show's numbers have fallen.\n",
    "\n",
    "In order to do that, I needed to grab all of those numbers in a graphing-friendly format, which means:\n",
    "1. Scraping the data\n",
    "2. Cleaning it\n",
    "3. Writing it out\n",
    "\n",
    "*To do, eventually: preliminary graphing/exploration in this notebook*"
   ]
  },
  {
   "cell_type": "markdown",
   "metadata": {},
   "source": [
    "## 1. Import and Scrape"
   ]
  },
  {
   "cell_type": "code",
   "execution_count": 1,
   "metadata": {
    "collapsed": true
   },
   "outputs": [],
   "source": [
    "import requests\n",
    "from lxml import html\n",
    "import pandas as pd"
   ]
  },
  {
   "cell_type": "code",
   "execution_count": 2,
   "metadata": {
    "collapsed": true
   },
   "outputs": [],
   "source": [
    "page = requests.get(\"https://en.wikipedia.org/wiki/List_of_Bones_episodes\")\n",
    "tree = html.fromstring(page.content.decode('utf-8'))"
   ]
  },
  {
   "cell_type": "markdown",
   "metadata": {},
   "source": [
    "With lxml, you need to use XPath to get the right selection from the DOM.\n",
    "The XPath below does this:\n",
    "* Find the `span` element with an `id` property whose value is \"Episodes\"\n",
    "* From that element, go to its parent - specifically, the `h2` that contains it\n",
    "* From the `h2`, within the set of its following siblings, find the `table` nodes\n",
    "* Find the child `tr`s within those `table`s"
   ]
  },
  {
   "cell_type": "code",
   "execution_count": 3,
   "metadata": {
    "collapsed": true
   },
   "outputs": [],
   "source": [
    "rows = tree.xpath(\n",
    "    '//span[@id=\"Episodes\"]/parent::h2/following-sibling::table/tr'\n",
    "    )"
   ]
  },
  {
   "cell_type": "markdown",
   "metadata": {},
   "source": [
    "In order to instantiate a DataFrame containing our data, I need to extract the content I want and put it in a data structure. A list will work here."
   ]
  },
  {
   "cell_type": "code",
   "execution_count": 4,
   "metadata": {
    "collapsed": true
   },
   "outputs": [],
   "source": [
    "data = []\n",
    "for row in rows:  # Iterate through all tr elements\n",
    "    # Add lists consisting of the text content of every child element of the current tr - i.e. every cell\n",
    "    data.append([c.text_content().__str__() for c in row.getchildren()])"
   ]
  },
  {
   "cell_type": "code",
   "execution_count": 5,
   "metadata": {
    "collapsed": false
   },
   "outputs": [
    {
     "data": {
      "text/html": [
       "<div>\n",
       "<table border=\"1\" class=\"dataframe\">\n",
       "  <thead>\n",
       "    <tr style=\"text-align: right;\">\n",
       "      <th></th>\n",
       "      <th>0</th>\n",
       "      <th>1</th>\n",
       "      <th>2</th>\n",
       "      <th>3</th>\n",
       "      <th>4</th>\n",
       "      <th>5</th>\n",
       "      <th>6</th>\n",
       "      <th>7</th>\n",
       "    </tr>\n",
       "  </thead>\n",
       "  <tbody>\n",
       "    <tr>\n",
       "      <th>0</th>\n",
       "      <td>No. in\\nseries</td>\n",
       "      <td>No. in\\nseason</td>\n",
       "      <td>Title</td>\n",
       "      <td>Directed by</td>\n",
       "      <td>Written by</td>\n",
       "      <td>Original air date</td>\n",
       "      <td>Production\\ncode</td>\n",
       "      <td>U.S. viewers\\n(millions)</td>\n",
       "    </tr>\n",
       "    <tr>\n",
       "      <th>1</th>\n",
       "      <td>1</td>\n",
       "      <td>1</td>\n",
       "      <td>\"Pilot\"</td>\n",
       "      <td>Greg Yaitanes</td>\n",
       "      <td>Hart Hanson</td>\n",
       "      <td>September 13, 2005 (2005-09-13)</td>\n",
       "      <td>1AKY79</td>\n",
       "      <td>10.79[1]</td>\n",
       "    </tr>\n",
       "    <tr>\n",
       "      <th>2</th>\n",
       "      <td>2</td>\n",
       "      <td>2</td>\n",
       "      <td>\"The Man in the S.U.V.\"</td>\n",
       "      <td>Allan Kroeker</td>\n",
       "      <td>Stephen Nathan</td>\n",
       "      <td>September 20, 2005 (2005-09-20)</td>\n",
       "      <td>1AKY02</td>\n",
       "      <td>7.39[2]</td>\n",
       "    </tr>\n",
       "    <tr>\n",
       "      <th>3</th>\n",
       "      <td>3</td>\n",
       "      <td>3</td>\n",
       "      <td>\"A Boy in a Tree\"</td>\n",
       "      <td>Patrick Norris</td>\n",
       "      <td>Hart Hanson</td>\n",
       "      <td>September 27, 2005 (2005-09-27)</td>\n",
       "      <td>1AKY01</td>\n",
       "      <td>7.87[3]</td>\n",
       "    </tr>\n",
       "    <tr>\n",
       "      <th>4</th>\n",
       "      <td>4</td>\n",
       "      <td>4</td>\n",
       "      <td>\"The Man in the Bear\"</td>\n",
       "      <td>Allan Kroeker</td>\n",
       "      <td>Laura Wolner</td>\n",
       "      <td>November 1, 2005 (2005-11-01)</td>\n",
       "      <td>1AKY04</td>\n",
       "      <td>7.99[4]</td>\n",
       "    </tr>\n",
       "  </tbody>\n",
       "</table>\n",
       "</div>"
      ],
      "text/plain": [
       "                0               1                        2               3  \\\n",
       "0  No. in\\nseries  No. in\\nseason                    Title     Directed by   \n",
       "1               1               1                  \"Pilot\"   Greg Yaitanes   \n",
       "2               2               2  \"The Man in the S.U.V.\"   Allan Kroeker   \n",
       "3               3               3        \"A Boy in a Tree\"  Patrick Norris   \n",
       "4               4               4    \"The Man in the Bear\"   Allan Kroeker   \n",
       "\n",
       "                4                                5                 6  \\\n",
       "0      Written by                Original air date  Production\\ncode   \n",
       "1     Hart Hanson  September 13, 2005 (2005-09-13)            1AKY79   \n",
       "2  Stephen Nathan  September 20, 2005 (2005-09-20)            1AKY02   \n",
       "3     Hart Hanson  September 27, 2005 (2005-09-27)            1AKY01   \n",
       "4    Laura Wolner    November 1, 2005 (2005-11-01)            1AKY04   \n",
       "\n",
       "                          7  \n",
       "0  U.S. viewers\\n(millions)  \n",
       "1                  10.79[1]  \n",
       "2                   7.39[2]  \n",
       "3                   7.87[3]  \n",
       "4                   7.99[4]  "
      ]
     },
     "execution_count": 5,
     "metadata": {},
     "output_type": "execute_result"
    }
   ],
   "source": [
    "episodes = pd.DataFrame(data)\n",
    "episodes.head()  # See the first five rows to get a sense of what's in it"
   ]
  },
  {
   "cell_type": "markdown",
   "metadata": {},
   "source": [
    "## 2. Clean"
   ]
  },
  {
   "cell_type": "markdown",
   "metadata": {},
   "source": [
    "Oops! Looks like there are a few problems I can see right away:\n",
    "1. The columns have no names\n",
    "2. The first row of the table (index 0) consists of column names (since the first `tr` element contained the headers)\n",
    "3. If I use row 0 as our column names, I probably don't want those newlines (`\\n`) in there\n",
    "\n",
    "What I'll want to do:\n",
    "1. Replace newlines in row 0\n",
    "2. Set the column labels to be equal to corresponding values in row 0\n",
    "3. Get rid of row 0"
   ]
  },
  {
   "cell_type": "code",
   "execution_count": 6,
   "metadata": {
    "collapsed": false
   },
   "outputs": [
    {
     "data": {
      "text/plain": [
       "0              No. in series\n",
       "1              No. in season\n",
       "2                      Title\n",
       "3                Directed by\n",
       "4                 Written by\n",
       "5          Original air date\n",
       "6            Production code\n",
       "7    U.S. viewers (millions)\n",
       "Name: 0, dtype: object"
      ]
     },
     "execution_count": 6,
     "metadata": {},
     "output_type": "execute_result"
    }
   ],
   "source": [
    "# 1. Replace newlines\n",
    "episodes.iloc[0] = episodes.iloc[0].str.replace('\\n', ' ')\n",
    "# And check to make sure it did what was expected\n",
    "episodes.iloc[0]"
   ]
  },
  {
   "cell_type": "code",
   "execution_count": 7,
   "metadata": {
    "collapsed": false
   },
   "outputs": [
    {
     "data": {
      "text/html": [
       "<div>\n",
       "<table border=\"1\" class=\"dataframe\">\n",
       "  <thead>\n",
       "    <tr style=\"text-align: right;\">\n",
       "      <th></th>\n",
       "      <th>No. in series</th>\n",
       "      <th>No. in season</th>\n",
       "      <th>Title</th>\n",
       "      <th>Directed by</th>\n",
       "      <th>Written by</th>\n",
       "      <th>Original air date</th>\n",
       "      <th>Production code</th>\n",
       "      <th>U.S. viewers (millions)</th>\n",
       "    </tr>\n",
       "  </thead>\n",
       "  <tbody>\n",
       "    <tr>\n",
       "      <th>0</th>\n",
       "      <td>No. in series</td>\n",
       "      <td>No. in season</td>\n",
       "      <td>Title</td>\n",
       "      <td>Directed by</td>\n",
       "      <td>Written by</td>\n",
       "      <td>Original air date</td>\n",
       "      <td>Production code</td>\n",
       "      <td>U.S. viewers (millions)</td>\n",
       "    </tr>\n",
       "    <tr>\n",
       "      <th>1</th>\n",
       "      <td>1</td>\n",
       "      <td>1</td>\n",
       "      <td>\"Pilot\"</td>\n",
       "      <td>Greg Yaitanes</td>\n",
       "      <td>Hart Hanson</td>\n",
       "      <td>September 13, 2005 (2005-09-13)</td>\n",
       "      <td>1AKY79</td>\n",
       "      <td>10.79[1]</td>\n",
       "    </tr>\n",
       "    <tr>\n",
       "      <th>2</th>\n",
       "      <td>2</td>\n",
       "      <td>2</td>\n",
       "      <td>\"The Man in the S.U.V.\"</td>\n",
       "      <td>Allan Kroeker</td>\n",
       "      <td>Stephen Nathan</td>\n",
       "      <td>September 20, 2005 (2005-09-20)</td>\n",
       "      <td>1AKY02</td>\n",
       "      <td>7.39[2]</td>\n",
       "    </tr>\n",
       "    <tr>\n",
       "      <th>3</th>\n",
       "      <td>3</td>\n",
       "      <td>3</td>\n",
       "      <td>\"A Boy in a Tree\"</td>\n",
       "      <td>Patrick Norris</td>\n",
       "      <td>Hart Hanson</td>\n",
       "      <td>September 27, 2005 (2005-09-27)</td>\n",
       "      <td>1AKY01</td>\n",
       "      <td>7.87[3]</td>\n",
       "    </tr>\n",
       "    <tr>\n",
       "      <th>4</th>\n",
       "      <td>4</td>\n",
       "      <td>4</td>\n",
       "      <td>\"The Man in the Bear\"</td>\n",
       "      <td>Allan Kroeker</td>\n",
       "      <td>Laura Wolner</td>\n",
       "      <td>November 1, 2005 (2005-11-01)</td>\n",
       "      <td>1AKY04</td>\n",
       "      <td>7.99[4]</td>\n",
       "    </tr>\n",
       "  </tbody>\n",
       "</table>\n",
       "</div>"
      ],
      "text/plain": [
       "0  No. in series  No. in season                    Title     Directed by  \\\n",
       "0  No. in series  No. in season                    Title     Directed by   \n",
       "1              1              1                  \"Pilot\"   Greg Yaitanes   \n",
       "2              2              2  \"The Man in the S.U.V.\"   Allan Kroeker   \n",
       "3              3              3        \"A Boy in a Tree\"  Patrick Norris   \n",
       "4              4              4    \"The Man in the Bear\"   Allan Kroeker   \n",
       "\n",
       "0      Written by                Original air date  Production code  \\\n",
       "0      Written by                Original air date  Production code   \n",
       "1     Hart Hanson  September 13, 2005 (2005-09-13)           1AKY79   \n",
       "2  Stephen Nathan  September 20, 2005 (2005-09-20)           1AKY02   \n",
       "3     Hart Hanson  September 27, 2005 (2005-09-27)           1AKY01   \n",
       "4    Laura Wolner    November 1, 2005 (2005-11-01)           1AKY04   \n",
       "\n",
       "0  U.S. viewers (millions)  \n",
       "0  U.S. viewers (millions)  \n",
       "1                 10.79[1]  \n",
       "2                  7.39[2]  \n",
       "3                  7.87[3]  \n",
       "4                  7.99[4]  "
      ]
     },
     "execution_count": 7,
     "metadata": {},
     "output_type": "execute_result"
    }
   ],
   "source": [
    "# 2. Set column names to values of the first row\n",
    "episodes.columns = episodes.iloc[0]\n",
    "episodes.head()"
   ]
  },
  {
   "cell_type": "code",
   "execution_count": 8,
   "metadata": {
    "collapsed": false
   },
   "outputs": [
    {
     "data": {
      "text/html": [
       "<div>\n",
       "<table border=\"1\" class=\"dataframe\">\n",
       "  <thead>\n",
       "    <tr style=\"text-align: right;\">\n",
       "      <th></th>\n",
       "      <th>No. in series</th>\n",
       "      <th>No. in season</th>\n",
       "      <th>Title</th>\n",
       "      <th>Directed by</th>\n",
       "      <th>Written by</th>\n",
       "      <th>Original air date</th>\n",
       "      <th>Production code</th>\n",
       "      <th>U.S. viewers (millions)</th>\n",
       "    </tr>\n",
       "  </thead>\n",
       "  <tbody>\n",
       "    <tr>\n",
       "      <th>1</th>\n",
       "      <td>1</td>\n",
       "      <td>1</td>\n",
       "      <td>\"Pilot\"</td>\n",
       "      <td>Greg Yaitanes</td>\n",
       "      <td>Hart Hanson</td>\n",
       "      <td>September 13, 2005 (2005-09-13)</td>\n",
       "      <td>1AKY79</td>\n",
       "      <td>10.79[1]</td>\n",
       "    </tr>\n",
       "    <tr>\n",
       "      <th>2</th>\n",
       "      <td>2</td>\n",
       "      <td>2</td>\n",
       "      <td>\"The Man in the S.U.V.\"</td>\n",
       "      <td>Allan Kroeker</td>\n",
       "      <td>Stephen Nathan</td>\n",
       "      <td>September 20, 2005 (2005-09-20)</td>\n",
       "      <td>1AKY02</td>\n",
       "      <td>7.39[2]</td>\n",
       "    </tr>\n",
       "    <tr>\n",
       "      <th>3</th>\n",
       "      <td>3</td>\n",
       "      <td>3</td>\n",
       "      <td>\"A Boy in a Tree\"</td>\n",
       "      <td>Patrick Norris</td>\n",
       "      <td>Hart Hanson</td>\n",
       "      <td>September 27, 2005 (2005-09-27)</td>\n",
       "      <td>1AKY01</td>\n",
       "      <td>7.87[3]</td>\n",
       "    </tr>\n",
       "    <tr>\n",
       "      <th>4</th>\n",
       "      <td>4</td>\n",
       "      <td>4</td>\n",
       "      <td>\"The Man in the Bear\"</td>\n",
       "      <td>Allan Kroeker</td>\n",
       "      <td>Laura Wolner</td>\n",
       "      <td>November 1, 2005 (2005-11-01)</td>\n",
       "      <td>1AKY04</td>\n",
       "      <td>7.99[4]</td>\n",
       "    </tr>\n",
       "    <tr>\n",
       "      <th>5</th>\n",
       "      <td>5</td>\n",
       "      <td>5</td>\n",
       "      <td>\"A Boy in a Bush\"</td>\n",
       "      <td>Jesús Treviño</td>\n",
       "      <td>Steve Blackman &amp; Greg Ball</td>\n",
       "      <td>November 8, 2005 (2005-11-08)</td>\n",
       "      <td>1AKY05</td>\n",
       "      <td>6.86[5]</td>\n",
       "    </tr>\n",
       "  </tbody>\n",
       "</table>\n",
       "</div>"
      ],
      "text/plain": [
       "0 No. in series No. in season                    Title     Directed by  \\\n",
       "1             1             1                  \"Pilot\"   Greg Yaitanes   \n",
       "2             2             2  \"The Man in the S.U.V.\"   Allan Kroeker   \n",
       "3             3             3        \"A Boy in a Tree\"  Patrick Norris   \n",
       "4             4             4    \"The Man in the Bear\"   Allan Kroeker   \n",
       "5             5             5        \"A Boy in a Bush\"   Jesús Treviño   \n",
       "\n",
       "0                  Written by                Original air date  \\\n",
       "1                 Hart Hanson  September 13, 2005 (2005-09-13)   \n",
       "2              Stephen Nathan  September 20, 2005 (2005-09-20)   \n",
       "3                 Hart Hanson  September 27, 2005 (2005-09-27)   \n",
       "4                Laura Wolner    November 1, 2005 (2005-11-01)   \n",
       "5  Steve Blackman & Greg Ball    November 8, 2005 (2005-11-08)   \n",
       "\n",
       "0 Production code U.S. viewers (millions)  \n",
       "1          1AKY79                10.79[1]  \n",
       "2          1AKY02                 7.39[2]  \n",
       "3          1AKY01                 7.87[3]  \n",
       "4          1AKY04                 7.99[4]  \n",
       "5          1AKY05                 6.86[5]  "
      ]
     },
     "execution_count": 8,
     "metadata": {},
     "output_type": "execute_result"
    }
   ],
   "source": [
    "# 3. Get rid of row 0\n",
    "episodes.drop(0, inplace=True)\n",
    "episodes.head()"
   ]
  },
  {
   "cell_type": "markdown",
   "metadata": {},
   "source": [
    "When I was looking at the Wikipedia page, I also noticed some weird stuff at the bottom of the table. Better double-check."
   ]
  },
  {
   "cell_type": "code",
   "execution_count": 9,
   "metadata": {
    "collapsed": false
   },
   "outputs": [
    {
     "data": {
      "text/html": [
       "<div>\n",
       "<table border=\"1\" class=\"dataframe\">\n",
       "  <thead>\n",
       "    <tr style=\"text-align: right;\">\n",
       "      <th></th>\n",
       "      <th>No. in series</th>\n",
       "      <th>No. in season</th>\n",
       "      <th>Title</th>\n",
       "      <th>Directed by</th>\n",
       "      <th>Written by</th>\n",
       "      <th>Original air date</th>\n",
       "      <th>Production code</th>\n",
       "      <th>U.S. viewers (millions)</th>\n",
       "    </tr>\n",
       "  </thead>\n",
       "  <tbody>\n",
       "    <tr>\n",
       "      <th>235</th>\n",
       "      <td>225</td>\n",
       "      <td>13</td>\n",
       "      <td>\"The Monster in the Closet\"[220]</td>\n",
       "      <td>TBA</td>\n",
       "      <td>Michael Peterson</td>\n",
       "      <td>TBA</td>\n",
       "      <td>BAKY13</td>\n",
       "      <td>TBA</td>\n",
       "    </tr>\n",
       "    <tr>\n",
       "      <th>236</th>\n",
       "      <td>226</td>\n",
       "      <td>14</td>\n",
       "      <td>\"The Last Shot at a Second Chance\"[221]</td>\n",
       "      <td>David Grossman[222]</td>\n",
       "      <td>Emily Silver</td>\n",
       "      <td>TBA</td>\n",
       "      <td>BAKY14</td>\n",
       "      <td>TBA</td>\n",
       "    </tr>\n",
       "    <tr>\n",
       "      <th>237</th>\n",
       "      <td>Season</td>\n",
       "      <td>Episodes</td>\n",
       "      <td>DVD release dates</td>\n",
       "      <td>Blu-ray release dates</td>\n",
       "      <td>None</td>\n",
       "      <td>None</td>\n",
       "      <td>None</td>\n",
       "      <td>None</td>\n",
       "    </tr>\n",
       "    <tr>\n",
       "      <th>238</th>\n",
       "      <td>Region 1</td>\n",
       "      <td>Region 2</td>\n",
       "      <td>Region 4</td>\n",
       "      <td>Region A</td>\n",
       "      <td>Region B</td>\n",
       "      <td>None</td>\n",
       "      <td>None</td>\n",
       "      <td>None</td>\n",
       "    </tr>\n",
       "    <tr>\n",
       "      <th>239</th>\n",
       "      <td>1</td>\n",
       "      <td>22</td>\n",
       "      <td>November 28, 2006[223]</td>\n",
       "      <td>October 30, 2006[224]</td>\n",
       "      <td>January 11, 2007[225]</td>\n",
       "      <td>N/A</td>\n",
       "      <td>N/A</td>\n",
       "      <td>None</td>\n",
       "    </tr>\n",
       "    <tr>\n",
       "      <th>240</th>\n",
       "      <td>2</td>\n",
       "      <td>21</td>\n",
       "      <td>September 11, 2007[226]</td>\n",
       "      <td>October 15, 2007[227]</td>\n",
       "      <td>December 3, 2008[228]</td>\n",
       "      <td>N/A</td>\n",
       "      <td>N/A</td>\n",
       "      <td>None</td>\n",
       "    </tr>\n",
       "    <tr>\n",
       "      <th>241</th>\n",
       "      <td>3</td>\n",
       "      <td>15</td>\n",
       "      <td>November 18, 2008[229]</td>\n",
       "      <td>November 17, 2008[230]</td>\n",
       "      <td>March 4, 2009[231]</td>\n",
       "      <td>N/A</td>\n",
       "      <td>N/A</td>\n",
       "      <td>None</td>\n",
       "    </tr>\n",
       "    <tr>\n",
       "      <th>242</th>\n",
       "      <td>4</td>\n",
       "      <td>26</td>\n",
       "      <td>October 6, 2009[232]</td>\n",
       "      <td>October 26, 2009[233]</td>\n",
       "      <td>October 28, 2009[234]</td>\n",
       "      <td>October 6, 2009[232]</td>\n",
       "      <td>N/A</td>\n",
       "      <td>None</td>\n",
       "    </tr>\n",
       "    <tr>\n",
       "      <th>243</th>\n",
       "      <td>5</td>\n",
       "      <td>22</td>\n",
       "      <td>October 5, 2010[235]</td>\n",
       "      <td>October 18, 2010[236]</td>\n",
       "      <td>October 27, 2010[237]</td>\n",
       "      <td>October 5, 2010[235]</td>\n",
       "      <td>October 18, 2010[238]</td>\n",
       "      <td>None</td>\n",
       "    </tr>\n",
       "    <tr>\n",
       "      <th>244</th>\n",
       "      <td>6</td>\n",
       "      <td>23</td>\n",
       "      <td>October 11, 2011[239]</td>\n",
       "      <td>October 17, 2011[240]</td>\n",
       "      <td>November 9, 2011[241]</td>\n",
       "      <td>October 11, 2011[239]</td>\n",
       "      <td>October 17, 2011[242]</td>\n",
       "      <td>None</td>\n",
       "    </tr>\n",
       "    <tr>\n",
       "      <th>245</th>\n",
       "      <td>7</td>\n",
       "      <td>13</td>\n",
       "      <td>October 9, 2012[243]</td>\n",
       "      <td>October 1, 2012[244]</td>\n",
       "      <td>November 7, 2012[245]</td>\n",
       "      <td>October 9, 2012[243]</td>\n",
       "      <td>October 1, 2012[246]</td>\n",
       "      <td>None</td>\n",
       "    </tr>\n",
       "    <tr>\n",
       "      <th>246</th>\n",
       "      <td>8</td>\n",
       "      <td>24</td>\n",
       "      <td>October 8, 2013[247]</td>\n",
       "      <td>September 30, 2013[248]</td>\n",
       "      <td>November 20, 2013[249]</td>\n",
       "      <td>October 8, 2013[247]</td>\n",
       "      <td>September 30, 2013[250]</td>\n",
       "      <td>None</td>\n",
       "    </tr>\n",
       "    <tr>\n",
       "      <th>247</th>\n",
       "      <td>9</td>\n",
       "      <td>24</td>\n",
       "      <td>September 16, 2014[251]</td>\n",
       "      <td>September 15, 2014[252]</td>\n",
       "      <td>November 26, 2014[253]</td>\n",
       "      <td>N/A</td>\n",
       "      <td>N/A</td>\n",
       "      <td>None</td>\n",
       "    </tr>\n",
       "    <tr>\n",
       "      <th>248</th>\n",
       "      <td>10</td>\n",
       "      <td>22</td>\n",
       "      <td>September 29, 2015[254]</td>\n",
       "      <td>October 12, 2015[255]</td>\n",
       "      <td>November 11, 2015[256]</td>\n",
       "      <td>N/A</td>\n",
       "      <td>N/A</td>\n",
       "      <td>None</td>\n",
       "    </tr>\n",
       "    <tr>\n",
       "      <th>249</th>\n",
       "      <td>\\n\\n\\n\\n\\n\\nv\\nt\\ne\\n\\n\\nBones\\n\\n\\n\\n\\n\\n\\nCh...</td>\n",
       "      <td>None</td>\n",
       "      <td>None</td>\n",
       "      <td>None</td>\n",
       "      <td>None</td>\n",
       "      <td>None</td>\n",
       "      <td>None</td>\n",
       "      <td>None</td>\n",
       "    </tr>\n",
       "  </tbody>\n",
       "</table>\n",
       "</div>"
      ],
      "text/plain": [
       "0                                        No. in series No. in season  \\\n",
       "235                                                225            13   \n",
       "236                                                226            14   \n",
       "237                                             Season      Episodes   \n",
       "238                                           Region 1      Region 2   \n",
       "239                                                  1            22   \n",
       "240                                                  2            21   \n",
       "241                                                  3            15   \n",
       "242                                                  4            26   \n",
       "243                                                  5            22   \n",
       "244                                                  6            23   \n",
       "245                                                  7            13   \n",
       "246                                                  8            24   \n",
       "247                                                  9            24   \n",
       "248                                                 10            22   \n",
       "249  \\n\\n\\n\\n\\n\\nv\\nt\\ne\\n\\n\\nBones\\n\\n\\n\\n\\n\\n\\nCh...          None   \n",
       "\n",
       "0                                      Title              Directed by  \\\n",
       "235         \"The Monster in the Closet\"[220]                      TBA   \n",
       "236  \"The Last Shot at a Second Chance\"[221]      David Grossman[222]   \n",
       "237                        DVD release dates    Blu-ray release dates   \n",
       "238                                 Region 4                 Region A   \n",
       "239                   November 28, 2006[223]    October 30, 2006[224]   \n",
       "240                  September 11, 2007[226]    October 15, 2007[227]   \n",
       "241                   November 18, 2008[229]   November 17, 2008[230]   \n",
       "242                     October 6, 2009[232]    October 26, 2009[233]   \n",
       "243                     October 5, 2010[235]    October 18, 2010[236]   \n",
       "244                    October 11, 2011[239]    October 17, 2011[240]   \n",
       "245                     October 9, 2012[243]     October 1, 2012[244]   \n",
       "246                     October 8, 2013[247]  September 30, 2013[248]   \n",
       "247                  September 16, 2014[251]  September 15, 2014[252]   \n",
       "248                  September 29, 2015[254]    October 12, 2015[255]   \n",
       "249                                     None                     None   \n",
       "\n",
       "0                Written by      Original air date          Production code  \\\n",
       "235        Michael Peterson                    TBA                   BAKY13   \n",
       "236            Emily Silver                    TBA                   BAKY14   \n",
       "237                    None                   None                     None   \n",
       "238                Region B                   None                     None   \n",
       "239   January 11, 2007[225]                    N/A                      N/A   \n",
       "240   December 3, 2008[228]                    N/A                      N/A   \n",
       "241      March 4, 2009[231]                    N/A                      N/A   \n",
       "242   October 28, 2009[234]   October 6, 2009[232]                      N/A   \n",
       "243   October 27, 2010[237]   October 5, 2010[235]    October 18, 2010[238]   \n",
       "244   November 9, 2011[241]  October 11, 2011[239]    October 17, 2011[242]   \n",
       "245   November 7, 2012[245]   October 9, 2012[243]     October 1, 2012[246]   \n",
       "246  November 20, 2013[249]   October 8, 2013[247]  September 30, 2013[250]   \n",
       "247  November 26, 2014[253]                    N/A                      N/A   \n",
       "248  November 11, 2015[256]                    N/A                      N/A   \n",
       "249                    None                   None                     None   \n",
       "\n",
       "0   U.S. viewers (millions)  \n",
       "235                     TBA  \n",
       "236                     TBA  \n",
       "237                    None  \n",
       "238                    None  \n",
       "239                    None  \n",
       "240                    None  \n",
       "241                    None  \n",
       "242                    None  \n",
       "243                    None  \n",
       "244                    None  \n",
       "245                    None  \n",
       "246                    None  \n",
       "247                    None  \n",
       "248                    None  \n",
       "249                    None  "
      ]
     },
     "execution_count": 9,
     "metadata": {},
     "output_type": "execute_result"
    }
   ],
   "source": [
    "episodes.tail(15)"
   ]
  },
  {
   "cell_type": "markdown",
   "metadata": {},
   "source": [
    "It appears that the scraping script grabbed the \"home media release\" section, as well as some unaired episodes. I'll drop those rows, since they have no value for my purposes. They can be identified by having a `None` or \"TBA\" value in the viewers column."
   ]
  },
  {
   "cell_type": "code",
   "execution_count": 10,
   "metadata": {
    "collapsed": false
   },
   "outputs": [
    {
     "data": {
      "text/html": [
       "<div>\n",
       "<table border=\"1\" class=\"dataframe\">\n",
       "  <thead>\n",
       "    <tr style=\"text-align: right;\">\n",
       "      <th></th>\n",
       "      <th>No. in series</th>\n",
       "      <th>No. in season</th>\n",
       "      <th>Title</th>\n",
       "      <th>Directed by</th>\n",
       "      <th>Written by</th>\n",
       "      <th>Original air date</th>\n",
       "      <th>Production code</th>\n",
       "      <th>U.S. viewers (millions)</th>\n",
       "    </tr>\n",
       "  </thead>\n",
       "  <tbody>\n",
       "    <tr>\n",
       "      <th>218</th>\n",
       "      <td>209</td>\n",
       "      <td>19</td>\n",
       "      <td>\"The Murder in the Middle East\"</td>\n",
       "      <td>Milan Cheylov</td>\n",
       "      <td>Michael Peterson</td>\n",
       "      <td>May 14, 2015 (2015-05-14)</td>\n",
       "      <td>AAKY19</td>\n",
       "      <td>4.71[205]</td>\n",
       "    </tr>\n",
       "    <tr>\n",
       "      <th>219</th>\n",
       "      <td>210</td>\n",
       "      <td>20</td>\n",
       "      <td>\"The Woman in the Whirlpool\"</td>\n",
       "      <td>Dwight Little</td>\n",
       "      <td>Kathy Reichs &amp; Kerry Reichs</td>\n",
       "      <td>May 28, 2015 (2015-05-28)</td>\n",
       "      <td>AAKY20</td>\n",
       "      <td>5.42[206]</td>\n",
       "    </tr>\n",
       "    <tr>\n",
       "      <th>220</th>\n",
       "      <td>211</td>\n",
       "      <td>21</td>\n",
       "      <td>\"The Life in the Light\"</td>\n",
       "      <td>Randy Zisk</td>\n",
       "      <td>Keith Foglesong</td>\n",
       "      <td>June 4, 2015 (2015-06-04)</td>\n",
       "      <td>AAKY21</td>\n",
       "      <td>5.21[207]</td>\n",
       "    </tr>\n",
       "    <tr>\n",
       "      <th>221</th>\n",
       "      <td>212</td>\n",
       "      <td>22</td>\n",
       "      <td>\"The Next in the Last\"</td>\n",
       "      <td>Ian Toynton</td>\n",
       "      <td>Stephen Nathan &amp; Jonathan Collier</td>\n",
       "      <td>June 11, 2015 (2015-06-11)</td>\n",
       "      <td>AAKY22</td>\n",
       "      <td>5.11[208]</td>\n",
       "    </tr>\n",
       "    <tr>\n",
       "      <th>222</th>\n",
       "      <td>No. in\\nseries</td>\n",
       "      <td>No. in\\nseason</td>\n",
       "      <td>Title</td>\n",
       "      <td>Directed by</td>\n",
       "      <td>Written by</td>\n",
       "      <td>Original air date</td>\n",
       "      <td>Production\\ncode</td>\n",
       "      <td>U.S. viewers\\n(millions)</td>\n",
       "    </tr>\n",
       "    <tr>\n",
       "      <th>223</th>\n",
       "      <td>213</td>\n",
       "      <td>1</td>\n",
       "      <td>\"The Loyalty in the Lie\"</td>\n",
       "      <td>Randy Zisk</td>\n",
       "      <td>Jonathan Collier</td>\n",
       "      <td>October 1, 2015 (2015-10-01)</td>\n",
       "      <td>BAKY01</td>\n",
       "      <td>6.20[209]</td>\n",
       "    </tr>\n",
       "    <tr>\n",
       "      <th>224</th>\n",
       "      <td>214</td>\n",
       "      <td>2</td>\n",
       "      <td>\"The Brother in the Basement\"</td>\n",
       "      <td>Dwight Little</td>\n",
       "      <td>Michael Peterson</td>\n",
       "      <td>October 8, 2015 (2015-10-08)</td>\n",
       "      <td>BAKY02</td>\n",
       "      <td>5.90[210]</td>\n",
       "    </tr>\n",
       "    <tr>\n",
       "      <th>225</th>\n",
       "      <td>215</td>\n",
       "      <td>3</td>\n",
       "      <td>\"The Donor in the Drink\"</td>\n",
       "      <td>Michael Lange</td>\n",
       "      <td>Hilary Weisman Graham</td>\n",
       "      <td>October 15, 2015 (2015-10-15)</td>\n",
       "      <td>BAKY03</td>\n",
       "      <td>5.79[211]</td>\n",
       "    </tr>\n",
       "    <tr>\n",
       "      <th>226</th>\n",
       "      <td>216</td>\n",
       "      <td>4</td>\n",
       "      <td>\"The Carpals in the Coy-Wolves\"</td>\n",
       "      <td>Randy Zisk</td>\n",
       "      <td>Gene Hong</td>\n",
       "      <td>October 22, 2015 (2015-10-22)</td>\n",
       "      <td>BAKY04</td>\n",
       "      <td>6.06[212]</td>\n",
       "    </tr>\n",
       "    <tr>\n",
       "      <th>227</th>\n",
       "      <td>217</td>\n",
       "      <td>5</td>\n",
       "      <td>\"The Resurrection in the Remains\"</td>\n",
       "      <td>Chad Lowe</td>\n",
       "      <td>Mary Trahan</td>\n",
       "      <td>October 29, 2015 (2015-10-29)</td>\n",
       "      <td>BAKY05</td>\n",
       "      <td>6.57[213]</td>\n",
       "    </tr>\n",
       "    <tr>\n",
       "      <th>228</th>\n",
       "      <td>218</td>\n",
       "      <td>6</td>\n",
       "      <td>\"The Senator in the Street Sweeper\"</td>\n",
       "      <td>Steve Robin</td>\n",
       "      <td>Emily Silver</td>\n",
       "      <td>November 5, 2015 (2015-11-05)</td>\n",
       "      <td>BAKY06</td>\n",
       "      <td>5.34[214]</td>\n",
       "    </tr>\n",
       "    <tr>\n",
       "      <th>229</th>\n",
       "      <td>219</td>\n",
       "      <td>7</td>\n",
       "      <td>\"The Promise in the Palace\"</td>\n",
       "      <td>Jeannot Szwarc</td>\n",
       "      <td>Joe Hortua</td>\n",
       "      <td>November 12, 2015 (2015-11-12)</td>\n",
       "      <td>BAKY07</td>\n",
       "      <td>5.16[215]</td>\n",
       "    </tr>\n",
       "    <tr>\n",
       "      <th>230</th>\n",
       "      <td>220</td>\n",
       "      <td>8</td>\n",
       "      <td>\"High Treason in the Holiday Season\"</td>\n",
       "      <td>Anne Renton</td>\n",
       "      <td>Jon Cowan</td>\n",
       "      <td>November 19, 2015 (2015-11-19)</td>\n",
       "      <td>BAKY08</td>\n",
       "      <td>5.25[216]</td>\n",
       "    </tr>\n",
       "    <tr>\n",
       "      <th>231</th>\n",
       "      <td>221</td>\n",
       "      <td>9</td>\n",
       "      <td>\"The Cowboy in the Contest\"</td>\n",
       "      <td>Chad Lowe</td>\n",
       "      <td>Karine Rosenthal</td>\n",
       "      <td>December 10, 2015 (2015-12-10)</td>\n",
       "      <td>BAKY09</td>\n",
       "      <td>4.63[217]</td>\n",
       "    </tr>\n",
       "    <tr>\n",
       "      <th>232</th>\n",
       "      <td>222</td>\n",
       "      <td>10</td>\n",
       "      <td>\"The Doom in the Boom\"</td>\n",
       "      <td>Michael Lange</td>\n",
       "      <td>Keith Foglesong</td>\n",
       "      <td>December 10, 2015 (2015-12-10)</td>\n",
       "      <td>BAKY10</td>\n",
       "      <td>4.42[217]</td>\n",
       "    </tr>\n",
       "  </tbody>\n",
       "</table>\n",
       "</div>"
      ],
      "text/plain": [
       "0     No. in series   No. in season                                 Title  \\\n",
       "218             209              19       \"The Murder in the Middle East\"   \n",
       "219             210              20          \"The Woman in the Whirlpool\"   \n",
       "220             211              21               \"The Life in the Light\"   \n",
       "221             212              22                \"The Next in the Last\"   \n",
       "222  No. in\\nseries  No. in\\nseason                                 Title   \n",
       "223             213               1              \"The Loyalty in the Lie\"   \n",
       "224             214               2         \"The Brother in the Basement\"   \n",
       "225             215               3              \"The Donor in the Drink\"   \n",
       "226             216               4       \"The Carpals in the Coy-Wolves\"   \n",
       "227             217               5     \"The Resurrection in the Remains\"   \n",
       "228             218               6   \"The Senator in the Street Sweeper\"   \n",
       "229             219               7           \"The Promise in the Palace\"   \n",
       "230             220               8  \"High Treason in the Holiday Season\"   \n",
       "231             221               9           \"The Cowboy in the Contest\"   \n",
       "232             222              10                \"The Doom in the Boom\"   \n",
       "\n",
       "0       Directed by                         Written by  \\\n",
       "218   Milan Cheylov                   Michael Peterson   \n",
       "219   Dwight Little        Kathy Reichs & Kerry Reichs   \n",
       "220      Randy Zisk                    Keith Foglesong   \n",
       "221     Ian Toynton  Stephen Nathan & Jonathan Collier   \n",
       "222     Directed by                         Written by   \n",
       "223      Randy Zisk                   Jonathan Collier   \n",
       "224   Dwight Little                   Michael Peterson   \n",
       "225   Michael Lange              Hilary Weisman Graham   \n",
       "226      Randy Zisk                          Gene Hong   \n",
       "227       Chad Lowe                        Mary Trahan   \n",
       "228     Steve Robin                       Emily Silver   \n",
       "229  Jeannot Szwarc                         Joe Hortua   \n",
       "230     Anne Renton                          Jon Cowan   \n",
       "231       Chad Lowe                   Karine Rosenthal   \n",
       "232   Michael Lange                    Keith Foglesong   \n",
       "\n",
       "0                 Original air date   Production code  \\\n",
       "218       May 14, 2015 (2015-05-14)            AAKY19   \n",
       "219       May 28, 2015 (2015-05-28)            AAKY20   \n",
       "220       June 4, 2015 (2015-06-04)            AAKY21   \n",
       "221      June 11, 2015 (2015-06-11)            AAKY22   \n",
       "222               Original air date  Production\\ncode   \n",
       "223    October 1, 2015 (2015-10-01)            BAKY01   \n",
       "224    October 8, 2015 (2015-10-08)            BAKY02   \n",
       "225   October 15, 2015 (2015-10-15)            BAKY03   \n",
       "226   October 22, 2015 (2015-10-22)            BAKY04   \n",
       "227   October 29, 2015 (2015-10-29)            BAKY05   \n",
       "228   November 5, 2015 (2015-11-05)            BAKY06   \n",
       "229  November 12, 2015 (2015-11-12)            BAKY07   \n",
       "230  November 19, 2015 (2015-11-19)            BAKY08   \n",
       "231  December 10, 2015 (2015-12-10)            BAKY09   \n",
       "232  December 10, 2015 (2015-12-10)            BAKY10   \n",
       "\n",
       "0     U.S. viewers (millions)  \n",
       "218                 4.71[205]  \n",
       "219                 5.42[206]  \n",
       "220                 5.21[207]  \n",
       "221                 5.11[208]  \n",
       "222  U.S. viewers\\n(millions)  \n",
       "223                 6.20[209]  \n",
       "224                 5.90[210]  \n",
       "225                 5.79[211]  \n",
       "226                 6.06[212]  \n",
       "227                 6.57[213]  \n",
       "228                 5.34[214]  \n",
       "229                 5.16[215]  \n",
       "230                 5.25[216]  \n",
       "231                 4.63[217]  \n",
       "232                 4.42[217]  "
      ]
     },
     "execution_count": 10,
     "metadata": {},
     "output_type": "execute_result"
    }
   ],
   "source": [
    "# The isnull method checks for None\n",
    "episodes.drop(episodes[episodes['U.S. viewers (millions)'].isnull()].index, inplace=True)\n",
    "episodes.drop(episodes[episodes['U.S. viewers (millions)'] == \"TBA\"].index, inplace=True)\n",
    "episodes.tail(15)"
   ]
  },
  {
   "cell_type": "markdown",
   "metadata": {},
   "source": [
    "Another thing I didn't notice the first time: since there are actually many HTML tables, each one has its own header row. These were scraped into the list as well (see row 222), so I'll delete those."
   ]
  },
  {
   "cell_type": "code",
   "execution_count": 11,
   "metadata": {
    "collapsed": false
   },
   "outputs": [
    {
     "data": {
      "text/plain": [
       "(232, 8)"
      ]
     },
     "execution_count": 11,
     "metadata": {},
     "output_type": "execute_result"
    }
   ],
   "source": [
    "episodes.shape"
   ]
  },
  {
   "cell_type": "code",
   "execution_count": 12,
   "metadata": {
    "collapsed": false
   },
   "outputs": [
    {
     "data": {
      "text/plain": [
       "(222, 8)"
      ]
     },
     "execution_count": 12,
     "metadata": {},
     "output_type": "execute_result"
    }
   ],
   "source": [
    "# Header rows, in this case, can be identified by a column value being equal to its own header\n",
    "episodes.drop(episodes[episodes['Title'] == 'Title'].index, inplace=True)\n",
    "episodes.shape"
   ]
  },
  {
   "cell_type": "markdown",
   "metadata": {},
   "source": [
    "I'll also pull out just the date part of the air date. It'll be easiest to grab the dates in `YYYY-MM-DD` format from between the parentheses."
   ]
  },
  {
   "cell_type": "code",
   "execution_count": 13,
   "metadata": {
    "collapsed": false
   },
   "outputs": [
    {
     "data": {
      "text/plain": [
       "1   2005-09-13\n",
       "2   2005-09-20\n",
       "3   2005-09-27\n",
       "4   2005-11-01\n",
       "5   2005-11-08\n",
       "Name: Date, dtype: datetime64[ns]"
      ]
     },
     "execution_count": 13,
     "metadata": {},
     "output_type": "execute_result"
    }
   ],
   "source": [
    "episodes.loc[:, 'Date'] = pd.to_datetime(episodes['Original air date'].str[-11:-1])\n",
    "episodes['Date'].head()"
   ]
  },
  {
   "cell_type": "markdown",
   "metadata": {},
   "source": [
    "I'm also going to have to remove the citations in the Viewers column. I'll create a function that uses regex to find the citation number in brackets and remove it. Then, `map` that function to all rows."
   ]
  },
  {
   "cell_type": "code",
   "execution_count": 14,
   "metadata": {
    "collapsed": false
   },
   "outputs": [
    {
     "data": {
      "text/plain": [
       "228    5.34\n",
       "229    5.16\n",
       "230    5.25\n",
       "231    4.63\n",
       "232    4.42\n",
       "Name: Viewers (M), dtype: float64"
      ]
     },
     "execution_count": 14,
     "metadata": {},
     "output_type": "execute_result"
    }
   ],
   "source": [
    "import re\n",
    "viewers_regex = re.compile(r'\\[\\d*\\]')  # Any number of digits between square brackets\n",
    "\n",
    "def strip_viewers(text):\n",
    "    viewer_match = re.search(viewers_regex, text)\n",
    "    if viewer_match is not None:\n",
    "        return float(text.replace(viewer_match.group(0), ''))        \n",
    "    else:\n",
    "        return None\n",
    "    \n",
    "episodes.loc[:, 'Viewers (M)'] = episodes['U.S. viewers (millions)'].map(strip_viewers).astype(float)\n",
    "episodes['Viewers (M)'].tail()"
   ]
  },
  {
   "cell_type": "markdown",
   "metadata": {},
   "source": [
    "Let's take a look at some quick summary statistics."
   ]
  },
  {
   "cell_type": "code",
   "execution_count": 15,
   "metadata": {
    "collapsed": false
   },
   "outputs": [
    {
     "data": {
      "text/plain": [
       "count    222.000000\n",
       "mean       8.428919\n",
       "std        1.962348\n",
       "min        4.290000\n",
       "25%        7.052500\n",
       "50%        8.630000\n",
       "75%        9.870000\n",
       "max       12.640000\n",
       "Name: Viewers (M), dtype: float64"
      ]
     },
     "execution_count": 15,
     "metadata": {},
     "output_type": "execute_result"
    }
   ],
   "source": [
    "episodes['Viewers (M)'].describe()"
   ]
  },
  {
   "cell_type": "markdown",
   "metadata": {},
   "source": [
    "## 3. Write to File"
   ]
  },
  {
   "cell_type": "markdown",
   "metadata": {},
   "source": [
    "Now, I'll create a new DataFrame to hold just the columns I care about, and export those to a text file."
   ]
  },
  {
   "cell_type": "code",
   "execution_count": 16,
   "metadata": {
    "collapsed": false
   },
   "outputs": [],
   "source": [
    "episodes.iloc[:, [0, 1, 2, 3, 8, 9]].to_csv('bones_episodes_cleaned.txt', sep='\\t', index=False)"
   ]
  }
 ],
 "metadata": {
  "kernelspec": {
   "display_name": "Python 3",
   "language": "python",
   "name": "python3"
  },
  "language_info": {
   "codemirror_mode": {
    "name": "ipython",
    "version": 3
   },
   "file_extension": ".py",
   "mimetype": "text/x-python",
   "name": "python",
   "nbconvert_exporter": "python",
   "pygments_lexer": "ipython3",
   "version": "3.4.3"
  }
 },
 "nbformat": 4,
 "nbformat_minor": 0
}
